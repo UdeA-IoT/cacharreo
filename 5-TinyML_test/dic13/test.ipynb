{
 "cells": [
  {
   "cell_type": "code",
   "execution_count": 1,
   "metadata": {},
   "outputs": [
    {
     "name": "stdout",
     "output_type": "stream",
     "text": [
      "WARNING:tensorflow:From c:\\Python311\\Lib\\site-packages\\keras\\src\\losses.py:2976: The name tf.losses.sparse_softmax_cross_entropy is deprecated. Please use tf.compat.v1.losses.sparse_softmax_cross_entropy instead.\n",
      "\n",
      "WARNING:tensorflow:From C:\\Users\\Usuario\\AppData\\Local\\Temp\\ipykernel_8312\\2398965637.py:2: is_gpu_available (from tensorflow.python.framework.test_util) is deprecated and will be removed in a future version.\n",
      "Instructions for updating:\n",
      "Use `tf.config.list_physical_devices('GPU')` instead.\n",
      "False\n",
      "False\n"
     ]
    }
   ],
   "source": [
    "import tensorflow as tf\n",
    "print(tf.test.is_gpu_available())\n",
    "print(tf.test.is_built_with_cuda())"
   ]
  },
  {
   "cell_type": "markdown",
   "metadata": {},
   "source": [
    "<table class=\"tfo-notebook-buttons\" align=\"left\">\n",
    "  <td>\n",
    "    <a target=\"_blank\" href=\"https://colab.research.google.com/github/UdeA-IoT/cacharreo/blob/main/5-TinyML_test/dic13/test.ipynb\"><img src=\"https://www.tensorflow.org/images/colab_logo_32px.png\" />Run in Google Colab</a>\n",
    "  </td>\n",
    "  <td>\n",
    "    <a target=\"_blank\" href=\"https://github.com/UdeA-IoT/cacharreo/tree/main/5-TinyML_test/dic13/test.ipynb\"><img src=\"https://www.tensorflow.org/images/GitHub-Mark-32px.png\" />View source on GitHub</a>\n",
    "  </td>\n",
    "</table>"
   ]
  },
  {
   "cell_type": "code",
   "execution_count": 6,
   "metadata": {},
   "outputs": [],
   "source": [
    "import tensorflow.keras\n",
    "from tensorflow.keras import models, layers, optimizers\n",
    "import numpy as np"
   ]
  },
  {
   "cell_type": "code",
   "execution_count": 7,
   "metadata": {},
   "outputs": [],
   "source": [
    "# Create some fake data\n",
    "x = np.linspace(1, 2, 200)\n",
    "y = (x * 8) + (np.random.randn(x.shape[0]) * 0.5)"
   ]
  },
  {
   "cell_type": "code",
   "execution_count": 8,
   "metadata": {},
   "outputs": [
    {
     "name": "stdout",
     "output_type": "stream",
     "text": [
      "x: [1.         1.00502513 1.01005025 1.01507538 1.0201005  1.02512563\n",
      " 1.03015075 1.03517588 1.04020101 1.04522613 1.05025126 1.05527638\n",
      " 1.06030151 1.06532663 1.07035176 1.07537688 1.08040201 1.08542714\n",
      " 1.09045226 1.09547739 1.10050251 1.10552764 1.11055276 1.11557789\n",
      " 1.12060302 1.12562814 1.13065327 1.13567839 1.14070352 1.14572864\n",
      " 1.15075377 1.15577889 1.16080402 1.16582915 1.17085427 1.1758794\n",
      " 1.18090452 1.18592965 1.19095477 1.1959799  1.20100503 1.20603015\n",
      " 1.21105528 1.2160804  1.22110553 1.22613065 1.23115578 1.2361809\n",
      " 1.24120603 1.24623116 1.25125628 1.25628141 1.26130653 1.26633166\n",
      " 1.27135678 1.27638191 1.28140704 1.28643216 1.29145729 1.29648241\n",
      " 1.30150754 1.30653266 1.31155779 1.31658291 1.32160804 1.32663317\n",
      " 1.33165829 1.33668342 1.34170854 1.34673367 1.35175879 1.35678392\n",
      " 1.36180905 1.36683417 1.3718593  1.37688442 1.38190955 1.38693467\n",
      " 1.3919598  1.39698492 1.40201005 1.40703518 1.4120603  1.41708543\n",
      " 1.42211055 1.42713568 1.4321608  1.43718593 1.44221106 1.44723618\n",
      " 1.45226131 1.45728643 1.46231156 1.46733668 1.47236181 1.47738693\n",
      " 1.48241206 1.48743719 1.49246231 1.49748744 1.50251256 1.50753769\n",
      " 1.51256281 1.51758794 1.52261307 1.52763819 1.53266332 1.53768844\n",
      " 1.54271357 1.54773869 1.55276382 1.55778894 1.56281407 1.5678392\n",
      " 1.57286432 1.57788945 1.58291457 1.5879397  1.59296482 1.59798995\n",
      " 1.60301508 1.6080402  1.61306533 1.61809045 1.62311558 1.6281407\n",
      " 1.63316583 1.63819095 1.64321608 1.64824121 1.65326633 1.65829146\n",
      " 1.66331658 1.66834171 1.67336683 1.67839196 1.68341709 1.68844221\n",
      " 1.69346734 1.69849246 1.70351759 1.70854271 1.71356784 1.71859296\n",
      " 1.72361809 1.72864322 1.73366834 1.73869347 1.74371859 1.74874372\n",
      " 1.75376884 1.75879397 1.7638191  1.76884422 1.77386935 1.77889447\n",
      " 1.7839196  1.78894472 1.79396985 1.79899497 1.8040201  1.80904523\n",
      " 1.81407035 1.81909548 1.8241206  1.82914573 1.83417085 1.83919598\n",
      " 1.84422111 1.84924623 1.85427136 1.85929648 1.86432161 1.86934673\n",
      " 1.87437186 1.87939698 1.88442211 1.88944724 1.89447236 1.89949749\n",
      " 1.90452261 1.90954774 1.91457286 1.91959799 1.92462312 1.92964824\n",
      " 1.93467337 1.93969849 1.94472362 1.94974874 1.95477387 1.95979899\n",
      " 1.96482412 1.96984925 1.97487437 1.9798995  1.98492462 1.98994975\n",
      " 1.99497487 2.        ]\n",
      "y: [ 8.3290587   8.49703547 10.07338205  8.13952561  8.91554737  8.18549278\n",
      "  8.00460369  8.58260155  8.35967455  8.80785382  9.1197939   7.82649484\n",
      "  9.27351473  9.43717125  9.10329733  8.57345729  8.66820946  9.44056303\n",
      "  8.27350077  9.09223732  9.07279866  8.38955021  9.4888204   8.43409806\n",
      " 10.09359861  9.08967229  9.07305062  8.81010968  9.19563589  9.13488306\n",
      "  9.85255204  9.64834777  9.39571416  8.78662205  8.98038959  9.59316423\n",
      "  9.29810756  9.10706135  9.98985382  9.89210077  9.83952505  9.58898824\n",
      "  9.7781908   9.24327719  9.54752181  9.7208087   9.84736674 10.120788\n",
      "  9.19839833 10.03881643 10.43649911  9.88386057 10.81819159  9.87142329\n",
      " 10.27505723 10.06164404 10.61787018 10.85767622 10.39383856  9.88453868\n",
      " 10.48949539 10.5318399   9.82497974 10.95763502 10.24040817 10.55182913\n",
      " 11.00644323 10.7170833  11.47239562 10.36986508 10.79928093 11.08102733\n",
      " 11.35945664 11.01836835 10.4876786  10.94373426 11.05131711 11.17956948\n",
      " 11.57881514 10.93352357 11.72542337 11.53802903 12.46739508 10.79350384\n",
      " 11.76404163 12.0877263  12.35298161 12.24623503 12.20433728 10.80349208\n",
      " 11.76827526 11.75354015 10.4524533  11.01626427 12.03518787 11.3504247\n",
      " 11.72551625 11.9950569  11.71116505 12.9352699  13.15644746 11.65298352\n",
      " 12.47619063 11.22039853 13.23066628 12.3521254  12.66252622 12.20868102\n",
      " 12.19263005 12.77885969 11.93377894 12.66306311 12.54297402 12.67824144\n",
      " 12.63358404 12.48953868 12.45341603 13.80405817 12.27022009 11.86252876\n",
      " 12.0452968  13.14548057 13.02651736 13.00798586 13.14045259 13.58536633\n",
      " 14.42589824 12.45747529 13.18882335 13.43140213 13.84041132 13.38107979\n",
      " 14.23726681 13.64663577 13.7634915  14.05351931 13.91338352 12.92470357\n",
      " 13.21925285 13.53266471 13.34425325 14.24994386 13.31662882 14.28347815\n",
      " 14.18837784 13.9579912  13.4581438  13.85058097 14.81806292 13.74239704\n",
      " 13.86948255 14.32461461 14.21904909 14.35494671 14.46192687 13.85633767\n",
      " 14.88617146 13.87696217 14.71123336 14.63328717 15.30008322 15.0086563\n",
      " 14.48884469 14.93574899 15.59109387 14.42098432 13.94119951 14.57292995\n",
      " 15.51344768 15.2066502  15.55342062 14.62994722 15.72652068 14.65682834\n",
      " 15.1261866  15.98683019 15.08256841 15.8449116  15.61872459 15.08707997\n",
      " 15.61314201 15.84724009 16.09835224 15.79468235 16.00487414 15.28139734\n",
      " 15.45833609 16.10807257 15.54881185 14.67602996 14.75148355 16.04229927\n",
      " 15.88814256 15.93484168 15.33447861 16.13701026 16.45455999 16.45293018\n",
      " 15.37658197 16.53082525]\n"
     ]
    }
   ],
   "source": [
    "\n",
    "# Examine data\n",
    "print('x:', x)\n",
    "print('y:', y)"
   ]
  },
  {
   "cell_type": "code",
   "execution_count": 9,
   "metadata": {},
   "outputs": [
    {
     "data": {
      "image/png": "[encoded data removed]",
      "text/plain": [
       "<Figure size 640x480 with 1 Axes>"
      ]
     },
     "metadata": {},
     "output_type": "display_data"
    }
   ],
   "source": [
    "# Plot the data\n",
    "import matplotlib.pyplot as plt\n",
    "plt.plot(x, y, 'k.')\n",
    "plt.show()"
   ]
  },
  {
   "cell_type": "code",
   "execution_count": 10,
   "metadata": {},
   "outputs": [],
   "source": [
    "# Build model\n",
    "model = models.Sequential()\n",
    "model.add(layers.Dense(1, input_dim=1, activation='linear'))"
   ]
  },
  {
   "cell_type": "code",
   "execution_count": 11,
   "metadata": {},
   "outputs": [
    {
     "name": "stdout",
     "output_type": "stream",
     "text": [
      "[array([[1.6828598]], dtype=float32), array([0.], dtype=float32)]\n"
     ]
    }
   ],
   "source": [
    "# Get initial, untrained weights\n",
    "print(model.layers[0].get_weights())"
   ]
  },
  {
   "cell_type": "code",
   "execution_count": 12,
   "metadata": {},
   "outputs": [],
   "source": [
    "# Configure training process\n",
    "model.compile(optimizer=optimizers.SGD(), loss='mse', metrics=['mse'])"
   ]
  },
  {
   "cell_type": "code",
   "execution_count": 13,
   "metadata": {},
   "outputs": [
    {
     "name": "stdout",
     "output_type": "stream",
     "text": [
      "Epoch 1/50\n",
      "200/200 [==============================] - 1s 3ms/step - loss: 3.2832 - mse: 3.2832\n",
      "Epoch 2/50\n",
      "200/200 [==============================] - 0s 2ms/step - loss: 0.3998 - mse: 0.3998\n",
      "Epoch 3/50\n",
      "200/200 [==============================] - 1s 3ms/step - loss: 0.3871 - mse: 0.3871\n",
      "Epoch 4/50\n",
      "200/200 [==============================] - 1s 3ms/step - loss: 0.3755 - mse: 0.3755\n",
      "Epoch 5/50\n",
      "200/200 [==============================] - 0s 2ms/step - loss: 0.3648 - mse: 0.3648\n",
      "Epoch 6/50\n",
      "200/200 [==============================] - 1s 3ms/step - loss: 0.3550 - mse: 0.3550\n",
      "Epoch 7/50\n",
      "200/200 [==============================] - 0s 2ms/step - loss: 0.3461 - mse: 0.3461\n",
      "Epoch 8/50\n",
      "200/200 [==============================] - 1s 3ms/step - loss: 0.3379 - mse: 0.3379\n",
      "Epoch 9/50\n",
      "200/200 [==============================] - 1s 3ms/step - loss: 0.3304 - mse: 0.3304\n",
      "Epoch 10/50\n",
      "200/200 [==============================] - 0s 2ms/step - loss: 0.3235 - mse: 0.3235\n",
      "Epoch 11/50\n",
      "200/200 [==============================] - 1s 3ms/step - loss: 0.3173 - mse: 0.3173\n",
      "Epoch 12/50\n",
      "200/200 [==============================] - 0s 2ms/step - loss: 0.3116 - mse: 0.3116\n",
      "Epoch 13/50\n",
      "200/200 [==============================] - 1s 3ms/step - loss: 0.3063 - mse: 0.3063\n",
      "Epoch 14/50\n",
      "200/200 [==============================] - 0s 2ms/step - loss: 0.3015 - mse: 0.3015\n",
      "Epoch 15/50\n",
      "200/200 [==============================] - 0s 2ms/step - loss: 0.2972 - mse: 0.2972\n",
      "Epoch 16/50\n",
      "200/200 [==============================] - 0s 2ms/step - loss: 0.2932 - mse: 0.2932\n",
      "Epoch 17/50\n",
      "200/200 [==============================] - 0s 2ms/step - loss: 0.2896 - mse: 0.2896\n",
      "Epoch 18/50\n",
      "200/200 [==============================] - 0s 2ms/step - loss: 0.2862 - mse: 0.2862\n",
      "Epoch 19/50\n",
      "200/200 [==============================] - 0s 2ms/step - loss: 0.2832 - mse: 0.2832\n",
      "Epoch 20/50\n",
      "200/200 [==============================] - 1s 3ms/step - loss: 0.2804 - mse: 0.2804\n",
      "Epoch 21/50\n",
      "200/200 [==============================] - 0s 2ms/step - loss: 0.2779 - mse: 0.2779\n",
      "Epoch 22/50\n",
      "200/200 [==============================] - 1s 3ms/step - loss: 0.2756 - mse: 0.2756\n",
      "Epoch 23/50\n",
      "200/200 [==============================] - 0s 2ms/step - loss: 0.2736 - mse: 0.2736\n",
      "Epoch 24/50\n",
      "200/200 [==============================] - 0s 2ms/step - loss: 0.2717 - mse: 0.2717\n",
      "Epoch 25/50\n",
      "200/200 [==============================] - 0s 2ms/step - loss: 0.2699 - mse: 0.2699\n",
      "Epoch 26/50\n",
      "200/200 [==============================] - 1s 3ms/step - loss: 0.2684 - mse: 0.2684\n",
      "Epoch 27/50\n",
      "200/200 [==============================] - 0s 2ms/step - loss: 0.2669 - mse: 0.2669\n",
      "Epoch 28/50\n",
      "200/200 [==============================] - 0s 2ms/step - loss: 0.2656 - mse: 0.2656\n",
      "Epoch 29/50\n",
      "200/200 [==============================] - 0s 2ms/step - loss: 0.2645 - mse: 0.2645\n",
      "Epoch 30/50\n",
      "200/200 [==============================] - 1s 3ms/step - loss: 0.2634 - mse: 0.2634\n",
      "Epoch 31/50\n",
      "200/200 [==============================] - 1s 3ms/step - loss: 0.2624 - mse: 0.2624\n",
      "Epoch 32/50\n",
      "200/200 [==============================] - 0s 2ms/step - loss: 0.2616 - mse: 0.2616\n",
      "Epoch 33/50\n",
      "200/200 [==============================] - 1s 3ms/step - loss: 0.2608 - mse: 0.2608\n",
      "Epoch 34/50\n",
      "200/200 [==============================] - 1s 3ms/step - loss: 0.2601 - mse: 0.2601\n",
      "Epoch 35/50\n",
      "200/200 [==============================] - 0s 2ms/step - loss: 0.2594 - mse: 0.2594\n",
      "Epoch 36/50\n",
      "200/200 [==============================] - 0s 2ms/step - loss: 0.2589 - mse: 0.2589\n",
      "Epoch 37/50\n",
      "200/200 [==============================] - 0s 2ms/step - loss: 0.2583 - mse: 0.2583\n",
      "Epoch 38/50\n",
      "200/200 [==============================] - 0s 2ms/step - loss: 0.2579 - mse: 0.2579\n",
      "Epoch 39/50\n",
      "200/200 [==============================] - 0s 2ms/step - loss: 0.2575 - mse: 0.2575\n",
      "Epoch 40/50\n",
      "200/200 [==============================] - 1s 3ms/step - loss: 0.2571 - mse: 0.2571\n",
      "Epoch 41/50\n",
      "200/200 [==============================] - 0s 2ms/step - loss: 0.2567 - mse: 0.2567\n",
      "Epoch 42/50\n",
      "200/200 [==============================] - 1s 3ms/step - loss: 0.2564 - mse: 0.2564\n",
      "Epoch 43/50\n",
      "200/200 [==============================] - 0s 2ms/step - loss: 0.2562 - mse: 0.2562\n",
      "Epoch 44/50\n",
      "200/200 [==============================] - 0s 2ms/step - loss: 0.2559 - mse: 0.2559\n",
      "Epoch 45/50\n",
      "200/200 [==============================] - 0s 2ms/step - loss: 0.2557 - mse: 0.2557\n",
      "Epoch 46/50\n",
      "200/200 [==============================] - 1s 3ms/step - loss: 0.2555 - mse: 0.2555\n",
      "Epoch 47/50\n",
      "200/200 [==============================] - 0s 2ms/step - loss: 0.2554 - mse: 0.2554\n",
      "Epoch 48/50\n",
      "200/200 [==============================] - 0s 2ms/step - loss: 0.2552 - mse: 0.2552\n",
      "Epoch 49/50\n",
      "200/200 [==============================] - 0s 2ms/step - loss: 0.2551 - mse: 0.2551\n",
      "Epoch 50/50\n",
      "200/200 [==============================] - 0s 2ms/step - loss: 0.2550 - mse: 0.2550\n"
     ]
    },
    {
     "data": {
      "text/plain": [
       "<keras.src.callbacks.History at 0x18ceeea09d0>"
      ]
     },
     "execution_count": 13,
     "metadata": {},
     "output_type": "execute_result"
    }
   ],
   "source": [
    "# Train model\n",
    "model.fit(x, y, batch_size=1, epochs=50, shuffle=False)"
   ]
  },
  {
   "cell_type": "code",
   "execution_count": 14,
   "metadata": {},
   "outputs": [
    {
     "name": "stdout",
     "output_type": "stream",
     "text": [
      "1/1 [==============================] - 0s 103ms/step\n"
     ]
    },
    {
     "data": {
      "text/plain": [
       "array([[9.151127]], dtype=float32)"
      ]
     },
     "execution_count": 14,
     "metadata": {},
     "output_type": "execute_result"
    }
   ],
   "source": [
    "# Try predicting 1 value\n",
    "model.predict([1.1])"
   ]
  },
  {
   "cell_type": "code",
   "execution_count": 15,
   "metadata": {},
   "outputs": [
    {
     "name": "stdout",
     "output_type": "stream",
     "text": [
      "7/7 [==============================] - 0s 3ms/step\n"
     ]
    },
    {
     "data": {
      "image/png": "[encoded data removed]",
      "text/plain": [
       "<Figure size 640x480 with 1 Axes>"
      ]
     },
     "metadata": {},
     "output_type": "display_data"
    }
   ],
   "source": [
    "# Plot fitted line versus actual data\n",
    "y_pred = model.predict(x)\n",
    "plt.plot(x, y, 'k.', x, y_pred, 'b')\n",
    "plt.show()"
   ]
  },
  {
   "cell_type": "code",
   "execution_count": 16,
   "metadata": {},
   "outputs": [
    {
     "name": "stdout",
     "output_type": "stream",
     "text": [
      "[array([[7.7518477]], dtype=float32), array([0.6240944], dtype=float32)]\n"
     ]
    }
   ],
   "source": [
    "# Get trained weights\n",
    "print(model.layers[0].get_weights())"
   ]
  },
  {
   "cell_type": "code",
   "execution_count": 19,
   "metadata": {},
   "outputs": [
    {
     "data": {
      "text/plain": [
       "9.151200000000001"
      ]
     },
     "execution_count": 19,
     "metadata": {},
     "output_type": "execute_result"
    }
   ],
   "source": [
    "7.752*1.1+0.624"
   ]
  },
  {
   "cell_type": "markdown",
   "metadata": {},
   "source": [
    "Finally, we print out the trained weights of the model with model.layers[0].get_weights(). In the example above, we can use those weights to manually calculate the y value from a given x=1.1. As you can see, it comes out to be close to the output of model.predict([1.1])."
   ]
  }
 ],
 "metadata": {
  "kernelspec": {
   "display_name": "Python 3",
   "language": "python",
   "name": "python3"
  },
  "language_info": {
   "codemirror_mode": {
    "name": "ipython",
    "version": 3
   },
   "file_extension": ".py",
   "mimetype": "text/x-python",
   "name": "python",
   "nbconvert_exporter": "python",
   "pygments_lexer": "ipython3",
   "version": "3.11.5"
  }
 },
 "nbformat": 4,
 "nbformat_minor": 2
}
